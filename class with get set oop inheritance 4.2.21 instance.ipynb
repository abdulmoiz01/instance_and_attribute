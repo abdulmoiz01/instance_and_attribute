{
 "cells": [
  {
   "cell_type": "code",
   "execution_count": 4,
   "metadata": {},
   "outputs": [],
   "source": [
    "class car():\n",
    "    def __init__(self, make, mode1, year):\n",
    "        self.make=make\n",
    "        self.model=mode1\n",
    "        self.year=year\n",
    "        self.odometer_reading = 0\n",
    "    def get_descriptive_name(self):\n",
    "        long_name = str(self.year) + ' ' + self.make + ' ' + self.model\n",
    "        return long_name.title()\n",
    "    \n",
    "    def set_odometer(self,mileage):\n",
    "        self.odometer_reading = mileage\n",
    "        \n",
    "    def get_odometer(self):\n",
    "        print(\"this car has \" + str(self.odometer_reading)+ \"mileage\")\n",
    "    def fill_gas_tank(self):\n",
    "        print(\"the gas tank is fill\")\n",
    "    "
   ]
  },
  {
   "cell_type": "code",
   "execution_count": 8,
   "metadata": {},
   "outputs": [],
   "source": [
    "car1 = car(\"Honda\" , \"civics\" , 2021)"
   ]
  },
  {
   "cell_type": "code",
   "execution_count": 9,
   "metadata": {},
   "outputs": [
    {
     "name": "stdout",
     "output_type": "stream",
     "text": [
      "<__main__.car object at 0x000000B0C4549160>\n"
     ]
    }
   ],
   "source": [
    "print(car1)"
   ]
  },
  {
   "cell_type": "code",
   "execution_count": 10,
   "metadata": {},
   "outputs": [
    {
     "data": {
      "text/plain": [
       "'2021 Honda Civics'"
      ]
     },
     "execution_count": 10,
     "metadata": {},
     "output_type": "execute_result"
    }
   ],
   "source": [
    "car1.get_descriptive_name()"
   ]
  },
  {
   "cell_type": "code",
   "execution_count": 11,
   "metadata": {},
   "outputs": [],
   "source": [
    "car1.set_odometer(50)"
   ]
  },
  {
   "cell_type": "code",
   "execution_count": 12,
   "metadata": {},
   "outputs": [
    {
     "name": "stdout",
     "output_type": "stream",
     "text": [
      "this car has 50mileage\n"
     ]
    }
   ],
   "source": [
    "car1.get_odometer()"
   ]
  },
  {
   "cell_type": "code",
   "execution_count": 13,
   "metadata": {},
   "outputs": [],
   "source": [
    "#an employee can take leave,\n",
    "#an employee can attend meeting\n",
    "class employee():\n",
    "    def __init__(self,name, employee_id, designation):\n",
    "        self.name = name\n",
    "        self.employee_id = employee_id\n",
    "        self.designation = designation\n",
    "        print(\"object is created\")\n",
    "    def leave():\n",
    "        pass\n",
    "    def meeting():\n",
    "        pass\n",
    "    def set_design(self,desig):\n",
    "        self.designation=desig\n",
    "    def get_design(self):\n",
    "        print(f\"{self.name} desisgnation is str{self.designation}\")\n",
    "        \n",
    "        "
   ]
  },
  {
   "cell_type": "code",
   "execution_count": 24,
   "metadata": {},
   "outputs": [],
   "source": [
    "class electricCar(car):\n",
    "    def __init__(self, make,model,year,speed):\n",
    "        super().__init__(make, model, year)\n",
    "        self.speed=speed\n",
    "    def fill_gas_tank(self):\n",
    "        print(\"electric car has no need to gas tank\")#overriding method"
   ]
  },
  {
   "cell_type": "code",
   "execution_count": 25,
   "metadata": {},
   "outputs": [
    {
     "name": "stdout",
     "output_type": "stream",
     "text": [
      "2016 Tesla Model S\n"
     ]
    }
   ],
   "source": [
    "my_testla=electricCar('tesla', 'model s', 2016, \"500hp\")\n",
    "print(my_testla.get_descriptive_name())"
   ]
  },
  {
   "cell_type": "code",
   "execution_count": 26,
   "metadata": {},
   "outputs": [
    {
     "data": {
      "text/plain": [
       "'500hp'"
      ]
     },
     "execution_count": 26,
     "metadata": {},
     "output_type": "execute_result"
    }
   ],
   "source": [
    "my_testla.speed"
   ]
  },
  {
   "cell_type": "markdown",
   "metadata": {},
   "source": [
    "# overriding method from the parent class"
   ]
  },
  {
   "cell_type": "code",
   "execution_count": 28,
   "metadata": {},
   "outputs": [
    {
     "name": "stdout",
     "output_type": "stream",
     "text": [
      "electric car has no need to gas tank\n"
     ]
    }
   ],
   "source": [
    "my_testla.fill_gas_tank()"
   ]
  },
  {
   "cell_type": "markdown",
   "metadata": {},
   "source": [
    "# instance as attribute"
   ]
  },
  {
   "cell_type": "code",
   "execution_count": 8,
   "metadata": {},
   "outputs": [],
   "source": [
    "class battery():\n",
    "    def __init__(self, amp, plates, manuf):\n",
    "        self.amp=amp\n",
    "        self.plates=plates\n",
    "        self.model=manuf\n",
    "    def get_amp(self):\n",
    "        return self.amp\n",
    "    def grt_plates(self):\n",
    "        return self.plates\n",
    "    \n",
    "    "
   ]
  },
  {
   "cell_type": "code",
   "execution_count": 12,
   "metadata": {},
   "outputs": [],
   "source": [
    "class electricCar(car):\n",
    "    def __init__(self, make,model,year,speed):\n",
    "        super().__init__(make, model, year)\n",
    "        self.speed=speed\n",
    "        self.battery=battery(\"250amp\", 30, 'osaka')\n",
    "    def fill_gas_tank(self):\n",
    "        print(\"electric car has no need to gas tank\")#overriding method\n",
    "    def describe_ecar(self):\n",
    "        print(self.model, self.make, self.year, self.battery.get_amp())"
   ]
  },
  {
   "cell_type": "code",
   "execution_count": 13,
   "metadata": {},
   "outputs": [],
   "source": [
    "my_ecar2=electricCar(\"honda\",\"tukfun\",\"2021\",\"10000m/h\")"
   ]
  },
  {
   "cell_type": "code",
   "execution_count": 14,
   "metadata": {},
   "outputs": [
    {
     "name": "stdout",
     "output_type": "stream",
     "text": [
      "tukfun honda 2021 250amp\n"
     ]
    }
   ],
   "source": [
    "my_ecar2.describe_ecar()"
   ]
  },
  {
   "cell_type": "markdown",
   "metadata": {},
   "source": [
    "# exercise 9.1"
   ]
  },
  {
   "cell_type": "markdown",
   "metadata": {},
   "source": [
    "9-1. Restaurant: Make a class called Restaurant . The __init__() method for Restaurant should store two attributes: a restaurant_name and a cuisine_type . Make a method called describe_restaurant() that prints these two pieces of information, and a method called open_restaurant() that prints a message indicating that the restaurant is open . \n",
    "\n",
    "Make an instance called restaurant from your class . Print the two attributes individually, and then call both methods ."
   ]
  },
  {
   "cell_type": "code",
   "execution_count": 84,
   "metadata": {},
   "outputs": [],
   "source": [
    "class Restaurant():\n",
    "    def __init__(self, restaurant_name, cuisine_type):\n",
    "        self.restaurant_name=restaurant_name\n",
    "        self.cuisine_type=cuisine_type\n",
    "        print(\"object is created\")\n",
    "    def describe_restaurant(self):\n",
    "        print(self.restaurant_name, self.cuisine_type)\n",
    "    def open_restaurant(self):\n",
    "        print(f\"{self.restaurant_name} is open\")\n",
    "    "
   ]
  },
  {
   "cell_type": "code",
   "execution_count": 85,
   "metadata": {},
   "outputs": [
    {
     "name": "stdout",
     "output_type": "stream",
     "text": [
      "object is created\n"
     ]
    }
   ],
   "source": [
    "resturent1=Restaurant(\"rasid fish food\", \"bbq\")"
   ]
  },
  {
   "cell_type": "code",
   "execution_count": 86,
   "metadata": {},
   "outputs": [
    {
     "name": "stdout",
     "output_type": "stream",
     "text": [
      "rasid fish food\n",
      "bbq\n"
     ]
    }
   ],
   "source": [
    "print(resturent1.restaurant_name)\n",
    "print(resturent1.cuisine_type)"
   ]
  },
  {
   "cell_type": "code",
   "execution_count": 87,
   "metadata": {},
   "outputs": [
    {
     "name": "stdout",
     "output_type": "stream",
     "text": [
      "rasid fish food bbq\n"
     ]
    }
   ],
   "source": [
    "resturent1.describe_restaurant()"
   ]
  },
  {
   "cell_type": "code",
   "execution_count": 88,
   "metadata": {},
   "outputs": [
    {
     "name": "stdout",
     "output_type": "stream",
     "text": [
      "rasid fish food is open\n"
     ]
    }
   ],
   "source": [
    "resturent1.open_restaurant()"
   ]
  },
  {
   "cell_type": "markdown",
   "metadata": {},
   "source": [
    "9-2. Three Restaurants: Start with your class from Exercise 9-1 . Create three different instances from the class, and call describe_restaurant() for each instance . 9-3. Users: "
   ]
  },
  {
   "cell_type": "code",
   "execution_count": 90,
   "metadata": {},
   "outputs": [
    {
     "name": "stdout",
     "output_type": "stream",
     "text": [
      "object is created\n",
      "object is created\n",
      "object is created\n"
     ]
    }
   ],
   "source": [
    "r1 =Restaurant(\"pizza hut\", \"jhung food\")\n",
    "r2 =Restaurant(\"kolachi\", \"pakistani\")\n",
    "r3 =Restaurant(\"kababjees\", \"indian\")"
   ]
  },
  {
   "cell_type": "markdown",
   "metadata": {},
   "source": [
    "9-3. Users: Make a class called User . Create two attributes called first_name and last_name, and then create several other attributes that are typically stored in a user profile . Make a method called describe_user() that prints a summary of the user’s information . Make another method called greet_user() that prints a personalized greeting to the user . Create several instances representing different users, and call both methods for each user ."
   ]
  },
  {
   "cell_type": "code",
   "execution_count": 32,
   "metadata": {},
   "outputs": [],
   "source": [
    "class user():\n",
    "    def __init__(self,first_name, last_name, gender, email, password):\n",
    "        self.first_name=first_name\n",
    "        self.last_name=last_name\n",
    "        self.gender=gender\n",
    "        self.email=email\n",
    "        self.password=password\n",
    "    def describe_user(self):\n",
    "        print(f\"user name is{self.first_name},{self.last_name}\")\n",
    "        print(f\"user gender is {gender}\")\n",
    "        print(f\"user email is{email}\")\n",
    "    def greet_user(self):\n",
    "        if self.gender.lower()==\"female\":\n",
    "            print(f\"welcome miss {self.first_name}, {self.last_name}\")\n",
    "        else:\n",
    "            print(f\"welcome mr {self.first_name}, {self.last_name}\")      \n",
    "            \n",
    "        "
   ]
  },
  {
   "cell_type": "code",
   "execution_count": 33,
   "metadata": {},
   "outputs": [],
   "source": [
    "user1 =user(\"abdul\",\"moiz\",\"male\",\"mirrking63@\",\"mkkhan1213\")\n",
    "user2 =user(\"aiman\",\"khan\",\"female\",\"aimkhan@\",\"amghk\")"
   ]
  },
  {
   "cell_type": "code",
   "execution_count": 34,
   "metadata": {},
   "outputs": [
    {
     "name": "stdout",
     "output_type": "stream",
     "text": [
      "welcome mr abdul, moiz\n",
      "None\n",
      "welcome miss aiman, khan\n",
      "None\n"
     ]
    }
   ],
   "source": [
    "print(user1.greet_user())\n",
    "print(user2.greet_user())"
   ]
  },
  {
   "cell_type": "markdown",
   "metadata": {},
   "source": [
    "9-4. Number Served: Start with your program from Exercise 9-1 (page 166) . Add an attribute called number_served with a default value of 0 . Create an instance called restaurant from this class . Print the number of customers the restaurant has served, and then change this value and print it again . Add a method called set_number_served() that lets you set the number of customers that have been served . Call this method with a new number and print the value again . Add a method called increment_number_served() that lets you increment the number of customers who’ve been served . Call this method with any number you like that could represent how many customers were served in, say, a day of business . "
   ]
  },
  {
   "cell_type": "code",
   "execution_count": 65,
   "metadata": {},
   "outputs": [],
   "source": [
    "class  Restaurant():\n",
    "    def __init__(self, restaurant_name, cuisine_type):\n",
    "        self.restaurant_name=restaurant_name\n",
    "        self.cuisine_type=cuisine_type\n",
    "        self.number_served=0\n",
    "        print(\"object is created\")\n",
    "    def set_number_surved(self, seets):\n",
    "        self.number_served=seets\n",
    "    def increment_number_served(self, increse):\n",
    "        self.number_served += increse        \n",
    "    def describe_restaurant(self):\n",
    "        print(self.restaurant_name, self.cuisine_type)\n",
    "    def open_restaurant(self):\n",
    "        print(f\"{self.restaurant_name} is open\")\n",
    "    "
   ]
  },
  {
   "cell_type": "code",
   "execution_count": 66,
   "metadata": {},
   "outputs": [
    {
     "name": "stdout",
     "output_type": "stream",
     "text": [
      "object is created\n"
     ]
    }
   ],
   "source": [
    "rest=Restaurant(\"xyz\", \"fast food\")"
   ]
  },
  {
   "cell_type": "code",
   "execution_count": 67,
   "metadata": {},
   "outputs": [
    {
     "data": {
      "text/plain": [
       "0"
      ]
     },
     "execution_count": 67,
     "metadata": {},
     "output_type": "execute_result"
    }
   ],
   "source": [
    "rest.number_served"
   ]
  },
  {
   "cell_type": "code",
   "execution_count": 68,
   "metadata": {},
   "outputs": [],
   "source": [
    "rest.set_number_surved(50)"
   ]
  },
  {
   "cell_type": "code",
   "execution_count": 69,
   "metadata": {},
   "outputs": [
    {
     "data": {
      "text/plain": [
       "50"
      ]
     },
     "execution_count": 69,
     "metadata": {},
     "output_type": "execute_result"
    }
   ],
   "source": [
    "rest.number_served"
   ]
  },
  {
   "cell_type": "code",
   "execution_count": 76,
   "metadata": {},
   "outputs": [],
   "source": [
    "rest.increment_number_served(20)"
   ]
  },
  {
   "cell_type": "code",
   "execution_count": 77,
   "metadata": {},
   "outputs": [
    {
     "data": {
      "text/plain": [
       "110"
      ]
     },
     "execution_count": 77,
     "metadata": {},
     "output_type": "execute_result"
    }
   ],
   "source": [
    "rest.number_served"
   ]
  },
  {
   "cell_type": "code",
   "execution_count": 75,
   "metadata": {},
   "outputs": [
    {
     "data": {
      "text/plain": [
       "90"
      ]
     },
     "execution_count": 75,
     "metadata": {},
     "output_type": "execute_result"
    }
   ],
   "source": [
    "rest.number_served"
   ]
  },
  {
   "cell_type": "markdown",
   "metadata": {},
   "source": [
    "# 9-6. Ice Cream Stand: An ice cream stand is a specific kind of restaurant . Write a class called IceCreamStand that inherits from the Restaurant class you wrote in Exercise 9-1 (page 166) or Exercise 9-4 (page 171) . Either version of the class will work; just pick the one you like better . Add an attribute called flavors that stores a list of ice cream flavors . Write a method that displays these flavors . Create an instance of IceCreamStand, and call this method ."
   ]
  },
  {
   "cell_type": "code",
   "execution_count": 97,
   "metadata": {},
   "outputs": [],
   "source": [
    "class IceCreamStand(Restaurant):\n",
    "    def __init__(self, restaurant_name, cuisine_type):\n",
    "        super().__init__(restaurant_name, cuisine_type)\n",
    "        self.flavour=[\"a\",'b','c','d']\n",
    "    def showlavours(self):\n",
    "        print(\"availiable flavours are\")\n",
    "        for flavour in self.flavour:\n",
    "            print(flavour, end=',')\n",
    "            \n",
    "        \n",
    "    "
   ]
  },
  {
   "cell_type": "code",
   "execution_count": 98,
   "metadata": {},
   "outputs": [
    {
     "name": "stdout",
     "output_type": "stream",
     "text": [
      "object is created\n"
     ]
    }
   ],
   "source": [
    "IceCreamStand1=IceCreamStand(\"alpino\",\"cheese icecreem\")"
   ]
  },
  {
   "cell_type": "code",
   "execution_count": 99,
   "metadata": {},
   "outputs": [
    {
     "name": "stdout",
     "output_type": "stream",
     "text": [
      "availiable flavours are\n",
      "a,b,c,d,"
     ]
    }
   ],
   "source": [
    "IceCreamStand1.showlavours()"
   ]
  },
  {
   "cell_type": "code",
   "execution_count": null,
   "metadata": {},
   "outputs": [],
   "source": []
  }
 ],
 "metadata": {
  "kernelspec": {
   "display_name": "Python 3",
   "language": "python",
   "name": "python3"
  },
  "language_info": {
   "codemirror_mode": {
    "name": "ipython",
    "version": 3
   },
   "file_extension": ".py",
   "mimetype": "text/x-python",
   "name": "python",
   "nbconvert_exporter": "python",
   "pygments_lexer": "ipython3",
   "version": "3.8.5"
  }
 },
 "nbformat": 4,
 "nbformat_minor": 4
}
